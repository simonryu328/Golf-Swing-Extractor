{
 "cells": [
  {
   "cell_type": "markdown",
   "metadata": {},
   "source": [
    "# Predict using trained models on test data\n",
    "Create a streamlined process to:\n",
    "- turn predictions into sequences\n",
    "- predict on sequences\n",
    "- verify results by plotting predicted golf swings"
   ]
  },
  {
   "cell_type": "code",
   "execution_count": null,
   "metadata": {},
   "outputs": [],
   "source": []
  }
 ],
 "metadata": {
  "language_info": {
   "name": "python"
  }
 },
 "nbformat": 4,
 "nbformat_minor": 2
}
