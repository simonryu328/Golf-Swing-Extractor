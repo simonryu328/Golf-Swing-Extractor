{
 "cells": [
  {
   "cell_type": "code",
   "execution_count": 9,
   "metadata": {},
   "outputs": [
    {
     "data": {
      "text/plain": [
       "True"
      ]
     },
     "execution_count": 9,
     "metadata": {},
     "output_type": "execute_result"
    }
   ],
   "source": [
    "from dotenv import load_dotenv\n",
    "load_dotenv() "
   ]
  },
  {
   "cell_type": "code",
   "execution_count": 6,
   "metadata": {},
   "outputs": [],
   "source": [
    "# import the InferencePipeline interface\n",
    "from inference import InferencePipeline\n",
    "# import a built-in sink called render_boxes (sinks are the logic that happens after inference)\n",
    "from inference.core.interfaces.stream.sinks import render_boxes\n",
    "from inference.core.interfaces.camera.entities import VideoFrame\n",
    "import os\n",
    "import json\n",
    "from pprint import pprint\n",
    "\n",
    "TARGET_DIR = \"predictions\"\n",
    "api_key = os.getenv(\"ROBOFLOW_API_KEY\")\n",
    "\n",
    "arr = []\n",
    "\n",
    "def save_prediction(prediction: dict, video_frame: VideoFrame) -> None:\n",
    "    # pprint(prediction)\n",
    "    # pprint(video_frame)\n",
    "    # print(\"------------------------------------\")\n",
    "  # with open(os.path.join(TARGET_DIR, f\"test.txt\"), \"a\") as f:\n",
    "    arr.append(prediction)\n",
    "  #   json.dump(prediction, f)\n",
    "  #   json.dump(video_frame, f)\n",
    "    \n",
    "\n",
    "# create an inference pipeline object\n",
    "pipeline = InferencePipeline.init(\n",
    "    model_id=\"golf-49wbh/1\", # set the model id to a yolov8x model with in put size 1280\n",
    "    video_reference=\"input_videos/ex.mp4\", # set the video reference (source of video), it can be a link/path to a video file, an RTSP stream url, or an integer representing a device id (usually 0 for built in webcams)\n",
    "    on_prediction=save_prediction, # tell the pipeline object what to do with each set of inference by passing a function\n",
    "    api_key=api_key, # provide your roboflow api key for loading models from the roboflow api\n",
    ")\n",
    "# start the pipeline\n",
    "pipeline.start()\n",
    "# wait for the pipeline to finish\n",
    "pipeline.join()"
   ]
  },
  {
   "cell_type": "code",
   "execution_count": 7,
   "metadata": {},
   "outputs": [
    {
     "data": {
      "text/plain": [
       "794"
      ]
     },
     "execution_count": 7,
     "metadata": {},
     "output_type": "execute_result"
    }
   ],
   "source": [
    "len(arr)"
   ]
  },
  {
   "cell_type": "code",
   "execution_count": 5,
   "metadata": {},
   "outputs": [
    {
     "name": "stdout",
     "output_type": "stream",
     "text": [
      "Total number of frames: 794\n"
     ]
    }
   ],
   "source": [
    "import cv2\n",
    "\n",
    "def get_frame_count(video_path):\n",
    "    # Open the video file\n",
    "    video = cv2.VideoCapture(video_path)\n",
    "    \n",
    "    # Check if the video opened successfully\n",
    "    if not video.isOpened():\n",
    "        print(\"Error: Could not open video.\")\n",
    "        return None\n",
    "    \n",
    "    # Get the total number of frames\n",
    "    frame_count = int(video.get(cv2.CAP_PROP_FRAME_COUNT))\n",
    "    \n",
    "    # Release the video capture object\n",
    "    video.release()\n",
    "    \n",
    "    return frame_count\n",
    "\n",
    "# Example usage\n",
    "video_path = 'input_videos/ex.mp4'\n",
    "frame_count = get_frame_count(video_path)\n",
    "print(f'Total number of frames: {frame_count}')\n"
   ]
  }
 ],
 "metadata": {
  "kernelspec": {
   "display_name": "cv",
   "language": "python",
   "name": "python3"
  },
  "language_info": {
   "codemirror_mode": {
    "name": "ipython",
    "version": 3
   },
   "file_extension": ".py",
   "mimetype": "text/x-python",
   "name": "python",
   "nbconvert_exporter": "python",
   "pygments_lexer": "ipython3",
   "version": "3.9.19"
  }
 },
 "nbformat": 4,
 "nbformat_minor": 2
}
