{
 "cells": [
  {
   "cell_type": "code",
   "execution_count": 1,
   "metadata": {},
   "outputs": [],
   "source": [
    "ROBOFLOW_API_KEY = \"B7act3OFjKpcSYU5rAlF\""
   ]
  },
  {
   "cell_type": "code",
   "execution_count": 11,
   "metadata": {},
   "outputs": [
    {
     "name": "stderr",
     "output_type": "stream",
     "text": [
      "UserWarning: Specified provider 'CUDAExecutionProvider' is not in available provider names.Available providers: 'CPUExecutionProvider'\n",
      "UserWarning: Specified provider 'OpenVINOExecutionProvider' is not in available provider names.Available providers: 'CPUExecutionProvider'\n"
     ]
    }
   ],
   "source": [
    "# import the InferencePipeline interface\n",
    "from inference import InferencePipeline\n",
    "# import a built-in sink called render_boxes (sinks are the logic that happens after inference)\n",
    "from inference.core.interfaces.stream.sinks import render_boxes\n",
    "from inference.core.interfaces.camera.entities import VideoFrame\n",
    "import os\n",
    "import json\n",
    "from pprint import pprint\n",
    "\n",
    "TARGET_DIR = \"predictions\"\n",
    "api_key = ROBOFLOW_API_KEY\n",
    "\n",
    "arr = []\n",
    "\n",
    "def save_prediction(prediction: dict, video_frame: VideoFrame) -> None:\n",
    "    pprint(prediction)\n",
    "    pprint(video_frame)\n",
    "    print(\"------------------------------------\")\n",
    "  # with open(os.path.join(TARGET_DIR, f\"test.txt\"), \"a\") as f:\n",
    "  #   arr.append(prediction)\n",
    "  #   json.dump(prediction, f)\n",
    "  #   json.dump(video_frame, f)\n",
    "    \n",
    "\n",
    "# create an inference pipeline object\n",
    "pipeline = InferencePipeline.init(\n",
    "    model_id=\"golf-49wbh/1\", # set the model id to a yolov8x model with in put size 1280\n",
    "    video_reference=\"input_videos/ex.mp4\", # set the video reference (source of video), it can be a link/path to a video file, an RTSP stream url, or an integer representing a device id (usually 0 for built in webcams)\n",
    "    on_prediction=save_prediction, # tell the pipeline object what to do with each set of inference by passing a function\n",
    "    api_key=api_key, # provide your roboflow api key for loading models from the roboflow api\n",
    ")\n",
    "# start the pipeline\n",
    "pipeline.start()\n",
    "# wait for the pipeline to finish\n",
    "pipeline.join()"
   ]
  },
  {
   "cell_type": "code",
   "execution_count": 12,
   "metadata": {},
   "outputs": [
    {
     "data": {
      "text/plain": [
       "794"
      ]
     },
     "execution_count": 12,
     "metadata": {},
     "output_type": "execute_result"
    }
   ],
   "source": [
    "len(arr)"
   ]
  },
  {
   "cell_type": "code",
   "execution_count": 13,
   "metadata": {},
   "outputs": [
    {
     "data": {
      "text/plain": [
       "{'image': {'width': 720, 'height': 1280},\n",
       " 'predictions': [{'x': 473.5,\n",
       "   'y': 1153.0,\n",
       "   'width': 299.0,\n",
       "   'height': 118.0,\n",
       "   'confidence': 0.6775482892990112,\n",
       "   'class': 'club',\n",
       "   'class_id': 0,\n",
       "   'detection_id': 'a2f21052-98f7-424e-a7de-b3640a4e6a06'},\n",
       "  {'x': 603.0,\n",
       "   'y': 1161.5,\n",
       "   'width': 38.0,\n",
       "   'height': 117.0,\n",
       "   'confidence': 0.6426902413368225,\n",
       "   'class': 'club_head',\n",
       "   'class_id': 1,\n",
       "   'detection_id': '42c716ba-4db3-4815-9ea6-4606099c0127'},\n",
       "  {'x': 101.5,\n",
       "   'y': 512.5,\n",
       "   'width': 43.0,\n",
       "   'height': 289.0,\n",
       "   'confidence': 0.5648428797721863,\n",
       "   'class': 'club',\n",
       "   'class_id': 0,\n",
       "   'detection_id': '63b18e26-412a-44a6-8101-0562856a369f'}]}"
      ]
     },
     "execution_count": 13,
     "metadata": {},
     "output_type": "execute_result"
    }
   ],
   "source": [
    "arr[0]"
   ]
  },
  {
   "cell_type": "code",
   "execution_count": 3,
   "metadata": {},
   "outputs": [
    {
     "name": "stderr",
     "output_type": "stream",
     "text": [
      "UserWarning: Specified provider 'CUDAExecutionProvider' is not in available provider names.Available providers: 'CPUExecutionProvider'\n",
      "UserWarning: Specified provider 'OpenVINOExecutionProvider' is not in available provider names.Available providers: 'CPUExecutionProvider'\n"
     ]
    }
   ],
   "source": [
    "from inference.models.utils import get_model\n",
    "\n",
    "model = get_model(model_id=\"golf-49wbh/1\", api_key=\"B7act3OFjKpcSYU5rAlF\")"
   ]
  },
  {
   "cell_type": "code",
   "execution_count": 5,
   "metadata": {},
   "outputs": [
    {
     "name": "stderr",
     "output_type": "stream",
     "text": [
      "UserWarning: Specified provider 'CUDAExecutionProvider' is not in available provider names.Available providers: 'CPUExecutionProvider'\n",
      "UserWarning: Specified provider 'OpenVINOExecutionProvider' is not in available provider names.Available providers: 'CPUExecutionProvider'\n"
     ]
    },
    {
     "data": {
      "text/html": [
       "<pre style=\"white-space:pre;overflow-x:auto;line-height:normal;font-family:Menlo,'DejaVu Sans Mono',consolas,'Courier New',monospace\"><span style=\"color: #7fbfbf; text-decoration-color: #7fbfbf\">[07/24/24 14:26:17] </span><span style=\"color: #800000; text-decoration-color: #800000; font-weight: bold\">ERROR   </span> Encountered inference error: Cannot connect to video source  <a href=\"file://c:\\Users\\simon\\miniconda3\\envs\\p39\\lib\\site-packages\\inference\\core\\interfaces\\stream\\inference_pipeline.py\" target=\"_blank\"><span style=\"color: #7f7f7f; text-decoration-color: #7f7f7f\">inference_pipeline.py</span></a><span style=\"color: #7f7f7f; text-decoration-color: #7f7f7f\">:</span><a href=\"file://c:\\Users\\simon\\miniconda3\\envs\\p39\\lib\\site-packages\\inference\\core\\interfaces\\stream\\inference_pipeline.py#822\" target=\"_blank\"><span style=\"color: #7f7f7f; text-decoration-color: #7f7f7f\">822</span></a>\n",
       "<span style=\"color: #7fbfbf; text-decoration-color: #7fbfbf\">                    </span>         under reference: .<span style=\"color: #800080; text-decoration-color: #800080\">/</span><span style=\"color: #ff00ff; text-decoration-color: #ff00ff\">my_video.mp4</span>                              <span style=\"color: #7f7f7f; text-decoration-color: #7f7f7f\">                         </span>\n",
       "<span style=\"color: #7fbfbf; text-decoration-color: #7fbfbf\">                    </span>         Traceback <span style=\"font-weight: bold\">(</span>most recent call last<span style=\"font-weight: bold\">)</span>:                           <span style=\"color: #7f7f7f; text-decoration-color: #7f7f7f\">                         </span>\n",
       "<span style=\"color: #7fbfbf; text-decoration-color: #7fbfbf\">                    </span>           File                                                       <span style=\"color: #7f7f7f; text-decoration-color: #7f7f7f\">                         </span>\n",
       "<span style=\"color: #7fbfbf; text-decoration-color: #7fbfbf\">                    </span>         <span style=\"color: #008000; text-decoration-color: #008000\">\"c:\\Users\\simon\\miniconda3\\envs\\p39\\lib\\site-packages\\infere</span> <span style=\"color: #7f7f7f; text-decoration-color: #7f7f7f\">                         </span>\n",
       "<span style=\"color: #7fbfbf; text-decoration-color: #7fbfbf\">                    </span>         <span style=\"color: #008000; text-decoration-color: #008000\">nce\\core\\interfaces\\stream\\inference_pipeline.py\"</span>, line <span style=\"color: #008080; text-decoration-color: #008080; font-weight: bold\">790</span>, <span style=\"color: #7f7f7f; text-decoration-color: #7f7f7f\">                         </span>\n",
       "<span style=\"color: #7fbfbf; text-decoration-color: #7fbfbf\">                    </span>         in _execute_inference                                        <span style=\"color: #7f7f7f; text-decoration-color: #7f7f7f\">                         </span>\n",
       "<span style=\"color: #7fbfbf; text-decoration-color: #7fbfbf\">                    </span>             for video_frames in <span style=\"color: #800080; text-decoration-color: #800080; font-weight: bold\">self._generate_frames</span><span style=\"font-weight: bold\">()</span>:             <span style=\"color: #7f7f7f; text-decoration-color: #7f7f7f\">                         </span>\n",
       "<span style=\"color: #7fbfbf; text-decoration-color: #7fbfbf\">                    </span>           File                                                       <span style=\"color: #7f7f7f; text-decoration-color: #7f7f7f\">                         </span>\n",
       "<span style=\"color: #7fbfbf; text-decoration-color: #7fbfbf\">                    </span>         <span style=\"color: #008000; text-decoration-color: #008000\">\"c:\\Users\\simon\\miniconda3\\envs\\p39\\lib\\site-packages\\infere</span> <span style=\"color: #7f7f7f; text-decoration-color: #7f7f7f\">                         </span>\n",
       "<span style=\"color: #7fbfbf; text-decoration-color: #7fbfbf\">                    </span>         <span style=\"color: #008000; text-decoration-color: #008000\">nce\\core\\interfaces\\stream\\inference_pipeline.py\"</span>, line <span style=\"color: #008080; text-decoration-color: #008080; font-weight: bold\">911</span>, <span style=\"color: #7f7f7f; text-decoration-color: #7f7f7f\">                         </span>\n",
       "<span style=\"color: #7fbfbf; text-decoration-color: #7fbfbf\">                    </span>         in _generate_frames                                          <span style=\"color: #7f7f7f; text-decoration-color: #7f7f7f\">                         </span>\n",
       "<span style=\"color: #7fbfbf; text-decoration-color: #7fbfbf\">                    </span>             <span style=\"color: #800080; text-decoration-color: #800080; font-weight: bold\">video_source.start</span><span style=\"font-weight: bold\">()</span>                                     <span style=\"color: #7f7f7f; text-decoration-color: #7f7f7f\">                         </span>\n",
       "<span style=\"color: #7fbfbf; text-decoration-color: #7fbfbf\">                    </span>           File                                                       <span style=\"color: #7f7f7f; text-decoration-color: #7f7f7f\">                         </span>\n",
       "<span style=\"color: #7fbfbf; text-decoration-color: #7fbfbf\">                    </span>         <span style=\"color: #008000; text-decoration-color: #008000\">\"c:\\Users\\simon\\miniconda3\\envs\\p39\\lib\\site-packages\\infere</span> <span style=\"color: #7f7f7f; text-decoration-color: #7f7f7f\">                         </span>\n",
       "<span style=\"color: #7fbfbf; text-decoration-color: #7fbfbf\">                    </span>         <span style=\"color: #008000; text-decoration-color: #008000\">nce\\core\\interfaces\\camera\\video_source.py\"</span>, line <span style=\"color: #008080; text-decoration-color: #008080; font-weight: bold\">128</span>, in    <span style=\"color: #7f7f7f; text-decoration-color: #7f7f7f\">                         </span>\n",
       "<span style=\"color: #7fbfbf; text-decoration-color: #7fbfbf\">                    </span>         locked_executor                                              <span style=\"color: #7f7f7f; text-decoration-color: #7f7f7f\">                         </span>\n",
       "<span style=\"color: #7fbfbf; text-decoration-color: #7fbfbf\">                    </span>             return <span style=\"color: #800080; text-decoration-color: #800080; font-weight: bold\">method</span><span style=\"font-weight: bold\">(</span>video_source, *args, **kwargs<span style=\"font-weight: bold\">)</span>             <span style=\"color: #7f7f7f; text-decoration-color: #7f7f7f\">                         </span>\n",
       "<span style=\"color: #7fbfbf; text-decoration-color: #7fbfbf\">                    </span>           File                                                       <span style=\"color: #7f7f7f; text-decoration-color: #7f7f7f\">                         </span>\n",
       "<span style=\"color: #7fbfbf; text-decoration-color: #7fbfbf\">                    </span>         <span style=\"color: #008000; text-decoration-color: #008000\">\"c:\\Users\\simon\\miniconda3\\envs\\p39\\lib\\site-packages\\infere</span> <span style=\"color: #7f7f7f; text-decoration-color: #7f7f7f\">                         </span>\n",
       "<span style=\"color: #7fbfbf; text-decoration-color: #7fbfbf\">                    </span>         <span style=\"color: #008000; text-decoration-color: #008000\">nce\\core\\interfaces\\camera\\video_source.py\"</span>, line <span style=\"color: #008080; text-decoration-color: #008080; font-weight: bold\">396</span>, in    <span style=\"color: #7f7f7f; text-decoration-color: #7f7f7f\">                         </span>\n",
       "<span style=\"color: #7fbfbf; text-decoration-color: #7fbfbf\">                    </span>         start                                                        <span style=\"color: #7f7f7f; text-decoration-color: #7f7f7f\">                         </span>\n",
       "<span style=\"color: #7fbfbf; text-decoration-color: #7fbfbf\">                    </span>             <span style=\"color: #800080; text-decoration-color: #800080; font-weight: bold\">self._start</span><span style=\"font-weight: bold\">()</span>                                            <span style=\"color: #7f7f7f; text-decoration-color: #7f7f7f\">                         </span>\n",
       "<span style=\"color: #7fbfbf; text-decoration-color: #7fbfbf\">                    </span>           File                                                       <span style=\"color: #7f7f7f; text-decoration-color: #7f7f7f\">                         </span>\n",
       "<span style=\"color: #7fbfbf; text-decoration-color: #7fbfbf\">                    </span>         <span style=\"color: #008000; text-decoration-color: #008000\">\"c:\\Users\\simon\\miniconda3\\envs\\p39\\lib\\site-packages\\infere</span> <span style=\"color: #7f7f7f; text-decoration-color: #7f7f7f\">                         </span>\n",
       "<span style=\"color: #7fbfbf; text-decoration-color: #7fbfbf\">                    </span>         <span style=\"color: #008000; text-decoration-color: #008000\">nce\\core\\interfaces\\camera\\video_source.py\"</span>, line <span style=\"color: #008080; text-decoration-color: #008080; font-weight: bold\">575</span>, in    <span style=\"color: #7f7f7f; text-decoration-color: #7f7f7f\">                         </span>\n",
       "<span style=\"color: #7fbfbf; text-decoration-color: #7fbfbf\">                    </span>         _start                                                       <span style=\"color: #7f7f7f; text-decoration-color: #7f7f7f\">                         </span>\n",
       "<span style=\"color: #7fbfbf; text-decoration-color: #7fbfbf\">                    </span>             raise <span style=\"color: #800080; text-decoration-color: #800080; font-weight: bold\">SourceConnectionError</span><span style=\"font-weight: bold\">(</span>                             <span style=\"color: #7f7f7f; text-decoration-color: #7f7f7f\">                         </span>\n",
       "<span style=\"color: #7fbfbf; text-decoration-color: #7fbfbf\">                    </span>         inference.core.interfaces.camera.exceptions.SourceConnection <span style=\"color: #7f7f7f; text-decoration-color: #7f7f7f\">                         </span>\n",
       "<span style=\"color: #7fbfbf; text-decoration-color: #7fbfbf\">                    </span>         Error: Cannot connect to video source under reference:       <span style=\"color: #7f7f7f; text-decoration-color: #7f7f7f\">                         </span>\n",
       "<span style=\"color: #7fbfbf; text-decoration-color: #7fbfbf\">                    </span>         .<span style=\"color: #800080; text-decoration-color: #800080\">/</span><span style=\"color: #ff00ff; text-decoration-color: #ff00ff\">my_video.mp4</span>                                               <span style=\"color: #7f7f7f; text-decoration-color: #7f7f7f\">                         </span>\n",
       "</pre>\n"
      ],
      "text/plain": [
       "\u001b[2;36m[07/24/24 14:26:17]\u001b[0m\u001b[2;36m \u001b[0m\u001b[1;31mERROR   \u001b[0m Encountered inference error: Cannot connect to video source  \u001b]8;id=323864;file://c:\\Users\\simon\\miniconda3\\envs\\p39\\lib\\site-packages\\inference\\core\\interfaces\\stream\\inference_pipeline.py\u001b\\\u001b[2minference_pipeline.py\u001b[0m\u001b]8;;\u001b\\\u001b[2m:\u001b[0m\u001b]8;id=820168;file://c:\\Users\\simon\\miniconda3\\envs\\p39\\lib\\site-packages\\inference\\core\\interfaces\\stream\\inference_pipeline.py#822\u001b\\\u001b[2m822\u001b[0m\u001b]8;;\u001b\\\n",
       "\u001b[2;36m                    \u001b[0m         under reference: .\u001b[35m/\u001b[0m\u001b[95mmy_video.mp4\u001b[0m                              \u001b[2m                         \u001b[0m\n",
       "\u001b[2;36m                    \u001b[0m         Traceback \u001b[1m(\u001b[0mmost recent call last\u001b[1m)\u001b[0m:                           \u001b[2m                         \u001b[0m\n",
       "\u001b[2;36m                    \u001b[0m           File                                                       \u001b[2m                         \u001b[0m\n",
       "\u001b[2;36m                    \u001b[0m         \u001b[32m\"c:\\Users\\simon\\miniconda3\\envs\\p39\\lib\\site-packages\\infere\u001b[0m \u001b[2m                         \u001b[0m\n",
       "\u001b[2;36m                    \u001b[0m         \u001b[32mnce\\core\\interfaces\\stream\\inference_pipeline.py\"\u001b[0m, line \u001b[1;36m790\u001b[0m, \u001b[2m                         \u001b[0m\n",
       "\u001b[2;36m                    \u001b[0m         in _execute_inference                                        \u001b[2m                         \u001b[0m\n",
       "\u001b[2;36m                    \u001b[0m             for video_frames in \u001b[1;35mself._generate_frames\u001b[0m\u001b[1m(\u001b[0m\u001b[1m)\u001b[0m:             \u001b[2m                         \u001b[0m\n",
       "\u001b[2;36m                    \u001b[0m           File                                                       \u001b[2m                         \u001b[0m\n",
       "\u001b[2;36m                    \u001b[0m         \u001b[32m\"c:\\Users\\simon\\miniconda3\\envs\\p39\\lib\\site-packages\\infere\u001b[0m \u001b[2m                         \u001b[0m\n",
       "\u001b[2;36m                    \u001b[0m         \u001b[32mnce\\core\\interfaces\\stream\\inference_pipeline.py\"\u001b[0m, line \u001b[1;36m911\u001b[0m, \u001b[2m                         \u001b[0m\n",
       "\u001b[2;36m                    \u001b[0m         in _generate_frames                                          \u001b[2m                         \u001b[0m\n",
       "\u001b[2;36m                    \u001b[0m             \u001b[1;35mvideo_source.start\u001b[0m\u001b[1m(\u001b[0m\u001b[1m)\u001b[0m                                     \u001b[2m                         \u001b[0m\n",
       "\u001b[2;36m                    \u001b[0m           File                                                       \u001b[2m                         \u001b[0m\n",
       "\u001b[2;36m                    \u001b[0m         \u001b[32m\"c:\\Users\\simon\\miniconda3\\envs\\p39\\lib\\site-packages\\infere\u001b[0m \u001b[2m                         \u001b[0m\n",
       "\u001b[2;36m                    \u001b[0m         \u001b[32mnce\\core\\interfaces\\camera\\video_source.py\"\u001b[0m, line \u001b[1;36m128\u001b[0m, in    \u001b[2m                         \u001b[0m\n",
       "\u001b[2;36m                    \u001b[0m         locked_executor                                              \u001b[2m                         \u001b[0m\n",
       "\u001b[2;36m                    \u001b[0m             return \u001b[1;35mmethod\u001b[0m\u001b[1m(\u001b[0mvideo_source, *args, **kwargs\u001b[1m)\u001b[0m             \u001b[2m                         \u001b[0m\n",
       "\u001b[2;36m                    \u001b[0m           File                                                       \u001b[2m                         \u001b[0m\n",
       "\u001b[2;36m                    \u001b[0m         \u001b[32m\"c:\\Users\\simon\\miniconda3\\envs\\p39\\lib\\site-packages\\infere\u001b[0m \u001b[2m                         \u001b[0m\n",
       "\u001b[2;36m                    \u001b[0m         \u001b[32mnce\\core\\interfaces\\camera\\video_source.py\"\u001b[0m, line \u001b[1;36m396\u001b[0m, in    \u001b[2m                         \u001b[0m\n",
       "\u001b[2;36m                    \u001b[0m         start                                                        \u001b[2m                         \u001b[0m\n",
       "\u001b[2;36m                    \u001b[0m             \u001b[1;35mself._start\u001b[0m\u001b[1m(\u001b[0m\u001b[1m)\u001b[0m                                            \u001b[2m                         \u001b[0m\n",
       "\u001b[2;36m                    \u001b[0m           File                                                       \u001b[2m                         \u001b[0m\n",
       "\u001b[2;36m                    \u001b[0m         \u001b[32m\"c:\\Users\\simon\\miniconda3\\envs\\p39\\lib\\site-packages\\infere\u001b[0m \u001b[2m                         \u001b[0m\n",
       "\u001b[2;36m                    \u001b[0m         \u001b[32mnce\\core\\interfaces\\camera\\video_source.py\"\u001b[0m, line \u001b[1;36m575\u001b[0m, in    \u001b[2m                         \u001b[0m\n",
       "\u001b[2;36m                    \u001b[0m         _start                                                       \u001b[2m                         \u001b[0m\n",
       "\u001b[2;36m                    \u001b[0m             raise \u001b[1;35mSourceConnectionError\u001b[0m\u001b[1m(\u001b[0m                             \u001b[2m                         \u001b[0m\n",
       "\u001b[2;36m                    \u001b[0m         inference.core.interfaces.camera.exceptions.SourceConnection \u001b[2m                         \u001b[0m\n",
       "\u001b[2;36m                    \u001b[0m         Error: Cannot connect to video source under reference:       \u001b[2m                         \u001b[0m\n",
       "\u001b[2;36m                    \u001b[0m         .\u001b[35m/\u001b[0m\u001b[95mmy_video.mp4\u001b[0m                                               \u001b[2m                         \u001b[0m\n"
      ]
     },
     "metadata": {},
     "output_type": "display_data"
    }
   ],
   "source": [
    "# This is example, reference implementation - you need to adjust the code to your purposes\n",
    "import os\n",
    "import json\n",
    "from inference.core.interfaces.camera.entities import VideoFrame\n",
    "from inference.models.utils import get_model\n",
    "from inference import InferencePipeline\n",
    "from typing import Any, List\n",
    "\n",
    "TARGET_DIR = \".predictions\"\n",
    "\n",
    "class MyModel:\n",
    "\n",
    "  def __init__(self):\n",
    "    self._model = get_model(model_id=\"golf-49wbh/1\", api_key=\"B7act3OFjKpcSYU5rAlF\")\n",
    "\n",
    "  # after v0.9.18  \n",
    "  def infer(self, video_frames: List[VideoFrame]) -> List[Any]: \n",
    "    # result must be returned as list of elements representing model prediction for single frame\n",
    "    # with order unchanged.\n",
    "    return self._model([v.image for v in video_frames])\n",
    "\n",
    "def save_prediction(prediction: dict, video_frame: VideoFrame) -> None:\n",
    "  with open(os.path.join(TARGET_DIR, f\"{video_frame.frame_id}.json\")) as f:\n",
    "    json.dump(prediction, f)\n",
    "\n",
    "my_model = MyModel()\n",
    "\n",
    "pipeline = InferencePipeline.init_with_custom_logic(\n",
    "  video_reference=\"./my_video.mp4\",\n",
    "  on_video_frame=my_model.infer,\n",
    "  on_prediction=save_prediction,\n",
    ")\n",
    "\n",
    "# start the pipeline\n",
    "pipeline.start()\n",
    "# wait for the pipeline to finish\n",
    "pipeline.join()"
   ]
  }
 ],
 "metadata": {
  "kernelspec": {
   "display_name": "cv",
   "language": "python",
   "name": "python3"
  },
  "language_info": {
   "codemirror_mode": {
    "name": "ipython",
    "version": 3
   },
   "file_extension": ".py",
   "mimetype": "text/x-python",
   "name": "python",
   "nbconvert_exporter": "python",
   "pygments_lexer": "ipython3",
   "version": "3.9.19"
  }
 },
 "nbformat": 4,
 "nbformat_minor": 2
}
